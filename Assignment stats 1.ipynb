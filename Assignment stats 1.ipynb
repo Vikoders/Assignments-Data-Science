{
 "cells": [
  {
   "cell_type": "raw",
   "id": "a7b0b1dd-9ee1-41ba-9a86-37c9e9b8f405",
   "metadata": {},
   "source": [
    "Q1. What are the three measures of central tendency?\n",
    "Ans - a) Mean - It is the average of all the elements given in a data set. It signifies the mid value of the dataset.\n",
    "      b) Median - The median is the middle value of a data set when the values are arranged in ascending or descending order. If there is an even number of values, the median is the average of the two middle values.\n",
    "      c) Mode -  The mode is the value that appears most frequently in a data set. It is possible to have more than one mode if multiple values occur with the same highest frequency, in which case the data set is considered multimodal."
   ]
  },
  {
   "cell_type": "raw",
   "id": "4fd83122-198d-47ff-9c9e-491d4f211a16",
   "metadata": {},
   "source": [
    "Q2. What is the difference between the mean, median, and mode? How are they used to measure the\n",
    "central tendency of a dataset?\n",
    "Ans - Mean is the average of all the elements given in a data set. It signifies the mid value of the dataset.\n",
    "The median is the middle value of a data set when the values are arranged in ascending or descending order. If there is an even number of values, the median is the average of the two middle values.\n",
    "The mode is the value that appears most frequently in a data set. It is possible to have more than one mode if multiple values occur with the same highest frequency, in which case the data set is considered multimodal.\n",
    "These measures of central tendency are used to provide a summary of the typical or central value of a dataset. Depending on the nature of the data and its distribution, one measure may be more appropriate than the others. For example:\n",
    "\n",
    "If the data is symmetrically distributed without outliers, the mean may provide a good representation of the central tendency.\n",
    "If the data is skewed or contains outliers, the median may be a better measure as it is less affected by extreme values.\n",
    "The mode is useful for identifying the most common value or category in the dataset, especially in categorical data."
   ]
  },
  {
   "cell_type": "code",
   "execution_count": 6,
   "id": "8f4b34da-4bce-4345-95bf-1ec70be5290c",
   "metadata": {},
   "outputs": [
    {
     "data": {
      "text/plain": [
       "177.01875"
      ]
     },
     "execution_count": 6,
     "metadata": {},
     "output_type": "execute_result"
    }
   ],
   "source": [
    "'''Q3. Measure the three measures of central tendency for the given height data:\n",
    "[178,177,176,177,178.2,178,175,179,180,175,178.9,176.2,177,172.5,178,176.5]'''\n",
    "import numpy as np\n",
    "height = [178,177,176,177,178.2,178,175,179,180,175,178.9,176.2,177,172.5,178,176.5]\n",
    "np.mean(height)\n"
   ]
  },
  {
   "cell_type": "code",
   "execution_count": 5,
   "id": "cb8b141a-333d-40b7-8841-be1df51c7381",
   "metadata": {},
   "outputs": [
    {
     "data": {
      "text/plain": [
       "177.0"
      ]
     },
     "execution_count": 5,
     "metadata": {},
     "output_type": "execute_result"
    }
   ],
   "source": [
    "np.median(height)"
   ]
  },
  {
   "cell_type": "code",
   "execution_count": 7,
   "id": "777dba83-8ac4-429a-a0a7-944ded4cb63e",
   "metadata": {},
   "outputs": [
    {
     "name": "stderr",
     "output_type": "stream",
     "text": [
      "/tmp/ipykernel_120/3846226869.py:2: FutureWarning: Unlike other reduction functions (e.g. `skew`, `kurtosis`), the default behavior of `mode` typically preserves the axis it acts along. In SciPy 1.11.0, this behavior will change: the default value of `keepdims` will become False, the `axis` over which the statistic is taken will be eliminated, and the value None will no longer be accepted. Set `keepdims` to True or False to avoid this warning.\n",
      "  stats.mode(height)\n"
     ]
    },
    {
     "data": {
      "text/plain": [
       "ModeResult(mode=array([177.]), count=array([3]))"
      ]
     },
     "execution_count": 7,
     "metadata": {},
     "output_type": "execute_result"
    }
   ],
   "source": [
    "from scipy import stats\n",
    "stats.mode(height)"
   ]
  },
  {
   "cell_type": "raw",
   "id": "cb2cc8d5-47f7-474e-8f43-bd36293931d0",
   "metadata": {},
   "source": [
    "Q4. Find the standard deviation for the given data:\n",
    "[178,177,176,177,178.2,178,175,179,180,175,178.9,176.2,177,172.5,178,176.5]"
   ]
  },
  {
   "cell_type": "code",
   "execution_count": 9,
   "id": "bf0f5dfe-3fc3-4294-92ac-08fbe75aff23",
   "metadata": {},
   "outputs": [
    {
     "data": {
      "text/plain": [
       "1.7885814036548633"
      ]
     },
     "execution_count": 9,
     "metadata": {},
     "output_type": "execute_result"
    }
   ],
   "source": [
    "import numpy as np\n",
    "data= [178,177,176,177,178.2,178,175,179,180,175,178.9,176.2,177,172.5,178,176.5]\n",
    "std = np.std(data)\n",
    "std"
   ]
  },
  {
   "cell_type": "raw",
   "id": "c19753b7-11b1-4271-b249-88e47c899dd2",
   "metadata": {},
   "source": [
    "Q5. How are measures of dispersion such as range, variance, and standard deviation used to describe\n",
    "the spread of a dataset? Provide an example.\n",
    "Ans - They provide insight into how spread out the values in the dataset are from the central tendency measures          (mean, median, mode).\n",
    "     Range: The range is the simplest measure of dispersion and is calculated as the difference between the maximum      and minimum values in the dataset. It gives a rough estimate of the spread of the data but is sensitive to          extreme values.\n",
    "\n",
    "     Example: Consider the following dataset of exam scores: {65, 72, 78, 85, 90}. The range is calculated as the        difference between the maximum value (90) and the minimum value (65), which is 90 - 65 = 25.\n",
    "     Variance: The variance measures the average squared deviation of each data point from the mean of the dataset.      It provides a more precise measure of dispersion by considering the distance of each value from the mean.\n",
    "     Example: Using the same dataset of exam scores, let's calculate the variance. First, calculate the mean:\n",
    "\n",
    "Mean = (65 + 72 + 78 + 85 + 90) / 5 = 78.\n",
    "\n",
    "Then, calculate the squared deviations for each data point from the mean:\n",
    "\n",
    "(65 - 78)^2 = 169,\n",
    "(72 - 78)^2 = 36,\n",
    "(78 - 78)^2 = 0,\n",
    "(85 - 78)^2 = 49,\n",
    "(90 - 78)^2 = 144.\n",
    "\n",
    "Next, calculate the average of these squared deviations:\n",
    "\n",
    "Variance = (169 + 36 + 0 + 49 + 144) / 5 = 79.6.\n",
    "\n",
    "     Standard Deviation: The standard deviation is the square root of the variance and provides a measure of dispersion in the same units as the original data. It indicates how much the values in the dataset deviate from the mean.\n",
    "\n",
    "Example: Using the variance calculated above (79.6), the standard deviation is the square root of the variance:\n",
    "\n",
    "Standard Deviation = √79.6 ≈ 8.92.\n"
   ]
  },
  {
   "cell_type": "raw",
   "id": "2bbffb3f-fd1e-4c59-9337-4aa3aa0127ed",
   "metadata": {},
   "source": [
    "Q6) What is a Venn diagram?\n",
    "Ans A Venn diagram is a visual representation of the relationships between different sets of data. It consists of overlapping circles or other shapes, each representing a set, with the overlapping areas representing the intersections between the sets"
   ]
  },
  {
   "cell_type": "raw",
   "id": "a1bd482e-4355-4554-8766-7cf48544bd2b",
   "metadata": {},
   "source": [
    "Q7. For the two given sets A = (2,3,4,5,6,7) & B = (0,2,6,8,10). Find:\n",
    "(i) A intersection B\n",
    "(ii) A ⋃ B\n",
    "Ans - i) (2,6)\n",
    "      ii) (0,2,3,4,5,6,7,8,10)"
   ]
  },
  {
   "cell_type": "raw",
   "id": "46e56eb3-df15-4802-9b28-06a4671af357",
   "metadata": {},
   "source": [
    "Q8. What do you understand about skewness in data?\n",
    "Ans - skewness of data tells how bent is a distribution density curve.\n",
    "      Skewness is a statistical measure that describes the asymmetry or lack of symmetry in a dataset's distribution. It indicates whether the data distribution is skewed to the left, meaning there is a longer tail on the left side of the distribution, or skewed to the right, meaning there is a longer tail on the right side of the distribution. A symmetric distribution has zero skewness.\n",
    "\n",
    "There are three main types of skewness:\n",
    "\n",
    "Positive skewness (right-skewed): In a right-skewed distribution, the tail on the right side of the distribution is longer or fatter than the left side. This indicates that the majority of the data points are concentrated on the left side of the distribution, with a few larger values extending the tail to the right.\n",
    "\n",
    "Negative skewness (left-skewed): In a left-skewed distribution, the tail on the left side of the distribution is longer or fatter than the right side. This indicates that the majority of the data points are concentrated on the right side of the distribution, with a few smaller values extending the tail to the left.\n",
    "\n",
    "Zero skewness: A distribution with zero skewness is symmetric, meaning it is evenly distributed around its mean. In such distributions, the left and right tails are approximately equal in length.\n",
    "\n",
    "Skewness is an important measure in statistics because it provides insights into the shape of the data distribution. It can affect the interpretation of descriptive statistics such as the mean, median, and standard deviation. For example, in a right-skewed distribution, the mean is typically larger than the median, while in a left-skewed distribution, the mean is typically smaller than the median. Understanding the skewness of a dataset helps researchers and analysts make informed decisions about data analysis and modeling techniques.\n"
   ]
  },
  {
   "cell_type": "raw",
   "id": "3a507756-7706-4e26-9bfa-79cb85368391",
   "metadata": {},
   "source": [
    "Q9. If a data is right skewed then what will be the position of median with respect to mean?\n",
    "Ans - In rightly skewed dataset , the position of mesian will be towards left of mean , i.e. mean will be greater than median"
   ]
  },
  {
   "cell_type": "raw",
   "id": "a01e6c16-a503-4174-9c4b-1207840ac9b6",
   "metadata": {},
   "source": [
    "Q10. Explain the difference between covariance and correlation. How are these measures used in\n",
    "statistical analysis?\n",
    "Ans - Unlike covariance, correlation is scale-invariant, meaning it is not affected by changes in the scales of the variables. This makes correlation coefficients easier to interpret and compare across different datasets.\n",
    "      The magnitude of covariance is not standardized, i.e we can't identify how much two variables are associated.\n",
    "      but this can be calculated in correlation.\n",
    "     \n",
    "     In statistical analysis:\n",
    "\n",
    "     Covariance is used to determine the direction of the relationship between two variables and whether they tend      to move together or in opposite directions.\n",
    "     Correlation is used to quantify the strength and direction of the linear relationship between two variables,        providing a standardized measure that is easier to interpret and compare. It is widely used in various fields,      including economics, finance, social sciences, and engineering, to assess the relationships between variables      and make predictions or decisions based on these relationships."
   ]
  },
  {
   "cell_type": "raw",
   "id": "6be872d6-d59a-4814-af4d-5b86023f2271",
   "metadata": {},
   "source": [
    "Q11. What is the formula for calculating the sample mean? Provide an example calculation for a\n",
    "dataset.\n",
    "Ans - sample mean is calculated as the sum of all the values in the dataset divided by the total number of values in the dataset .\n",
    "Consider the following dataset of exam scores: {85, 78, 92, 88, 90}.\n",
    "\n",
    "To find the sample mean:\n",
    "\n",
    "Add up all the values in the dataset:\n",
    "85\n",
    "+\n",
    "78\n",
    "+\n",
    "92\n",
    "+\n",
    "88\n",
    "+\n",
    "90\n",
    "=\n",
    "433\n",
    "85+78+92+88+90=433\n",
    "\n",
    "Count the total number of values in the dataset (which is 5 in this case).\n",
    "\n",
    "Divide the sum of the values by the total number of values: \n",
    "433/5 =86.6\n"
   ]
  },
  {
   "cell_type": "raw",
   "id": "c093a26a-3f63-4768-93e7-5c498496e268",
   "metadata": {},
   "source": [
    "Q12. For a normal distribution data what is the relationship between its measure of central tendency?\n",
    "Ans - Relationship between central tendencies for a normal distribution data is mean = median = mode"
   ]
  },
  {
   "cell_type": "raw",
   "id": "2404672f-e867-4c0f-8d80-9acde57de21e",
   "metadata": {},
   "source": [
    "Q13. How is covariance different from correlation?\n",
    "Ans - covariance tells whether one variable will increase or decrease on increasing or decreasing of the other variable. Its magnitude dosen't hold much of a significance and it is scale dependent\n",
    "      correlation on the other hand tells how 2 variables are closely associated and it is scale invariant"
   ]
  },
  {
   "cell_type": "raw",
   "id": "ca1c75c0-808a-4c1f-b4ef-9259b0defccd",
   "metadata": {},
   "source": [
    "Q14. How do outliers affect measures of central tendency and dispersion? Provide an example.\n",
    "Ans -\n",
    "Outliers can have a significant impact on measures of central tendency and dispersion in a dataset. Depending on the nature and position of the outlier, they can skew the distribution and distort the summary statistics.\n",
    "\n",
    "Measures of Central Tendency:\n",
    "\n",
    "Mean: Outliers can disproportionately influence the mean, pulling it towards their extreme values. A single extreme outlier can significantly increase or decrease the mean, depending on its direction relative to the rest of the data. Therefore, the mean may not accurately represent the typical value of the dataset when outliers are present.\n",
    "Median: Outliers have minimal effect on the median because it is not sensitive to extreme values. The median represents the middle value when the data is arranged in order, so it is less affected by outliers at the extremes of the distribution.\n",
    "Mode: Outliers generally do not affect the mode, as it represents the most frequent value(s) in the dataset. However, if an outlier occurs with high frequency, it may influence the mode.\n",
    "Measures of Dispersion:\n",
    "\n",
    "Range: Outliers can significantly impact the range, which is calculated as the difference between the maximum and minimum values in the dataset. If an outlier is far removed from the rest of the data, it can widen the range.\n",
    "Variance and Standard Deviation: Outliers can inflate the variance and standard deviation, especially when calculating these measures from the mean. Since variance and standard deviation involve squaring the differences between each data point and the mean, outliers with large deviations can contribute disproportionately to the overall variability.\n",
    "Interquartile Range (IQR): Outliers can affect the IQR, which is the range of values between the first quartile (25th percentile) and the third quartile (75th percentile). Outliers may lie beyond the upper or lower quartiles, increasing the spread of the IQR."
   ]
  }
 ],
 "metadata": {
  "kernelspec": {
   "display_name": "Python 3 (ipykernel)",
   "language": "python",
   "name": "python3"
  },
  "language_info": {
   "codemirror_mode": {
    "name": "ipython",
    "version": 3
   },
   "file_extension": ".py",
   "mimetype": "text/x-python",
   "name": "python",
   "nbconvert_exporter": "python",
   "pygments_lexer": "ipython3",
   "version": "3.10.8"
  }
 },
 "nbformat": 4,
 "nbformat_minor": 5
}
