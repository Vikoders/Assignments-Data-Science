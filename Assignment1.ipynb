{
 "cells": [
  {
   "cell_type": "code",
   "execution_count": 4,
   "id": "7869d29d-de1b-4e45-a0cf-09dae76f6c3c",
   "metadata": {},
   "outputs": [
    {
     "name": "stdout",
     "output_type": "stream",
     "text": [
      "Hi\n"
     ]
    }
   ],
   "source": [
    "'''Q1 Explain Class and Object with respect to Object-Oriented Programming. Give a suitable example.\n",
    " Ans - A class is a blueprint or a template for creating objects in OOP. It defines the structure and behavior\n",
    " of objects that will be created based on it.\n",
    "      An object is an instance of a class. It is a real, tangible entity that can be manipulated in your code.\n",
    "      Example-'''\n",
    "class Test:\n",
    "    def hi(self):\n",
    "        print(\"Hi\")\n",
    "Arjun = Test()\n",
    "Arjun.hi()"
   ]
  },
  {
   "cell_type": "code",
   "execution_count": 5,
   "id": "439bd7ff-58fb-4ee7-9ccb-a691c369f99b",
   "metadata": {},
   "outputs": [
    {
     "data": {
      "text/plain": [
       "'Q2-Name the four pillars of OOPs.\\nAns - four pillars of OOPs are as follows :-\\n    1) Inheritance\\n    2)polymorphysim\\n    3)Encapsulation\\n    4)Abstraction'"
      ]
     },
     "execution_count": 5,
     "metadata": {},
     "output_type": "execute_result"
    }
   ],
   "source": [
    "'''Q2-Name the four pillars of OOPs.\n",
    "Ans - four pillars of OOPs are as follows :-\n",
    "    1) Inheritance\n",
    "    2)polymorphysim\n",
    "    3)Encapsulation\n",
    "    4)Abstraction'''"
   ]
  },
  {
   "cell_type": "code",
   "execution_count": 11,
   "id": "a570f35d-b553-415e-9b93-0762906c57e5",
   "metadata": {},
   "outputs": [
    {
     "data": {
      "text/plain": [
       "101"
      ]
     },
     "execution_count": 11,
     "metadata": {},
     "output_type": "execute_result"
    }
   ],
   "source": [
    "'''Q3- Explain why the __init__() function is used. Give a suitable example.\n",
    "Ans- __init__() function is used as a constructor to initialise attributes of an object , thats called automatically\n",
    "when a new object is created.\n",
    "example -'''\n",
    "class Cars:\n",
    "    def __init__(self, Name, model_id):\n",
    "        self.Name = Name\n",
    "        self.model_id = model_id\n",
    "car1= Cars(\"Toyota\",101)\n",
    "car1.Name\n",
    "car1.model_id"
   ]
  },
  {
   "cell_type": "code",
   "execution_count": 12,
   "id": "1ae3930f-d7df-4b52-8155-589f2c3cbbce",
   "metadata": {},
   "outputs": [
    {
     "data": {
      "text/plain": [
       "'Q4. Why self is used in OOPs?\\nAns -Self is used as a reference to the class , that binds a method to the class and point to the class.'"
      ]
     },
     "execution_count": 12,
     "metadata": {},
     "output_type": "execute_result"
    }
   ],
   "source": [
    "'''Q4. Why self is used in OOPs?\n",
    "Ans -Self is used as a reference to the class , that binds a method to the class and point to the class.'''\n"
   ]
  },
  {
   "cell_type": "code",
   "execution_count": null,
   "id": "dc920b58-22d7-4951-bb1c-558ee4cedff1",
   "metadata": {},
   "outputs": [],
   "source": [
    "'''Q5 What is inheritance? Give an example for each type of inheritance.\n",
    "Ans - Inheritance is one of the four fundamental concepts of object-oriented programming (OOP).\n",
    "    1. Single Inheritance:\n",
    "\n",
    "       In single inheritance, a subclass inherits from only one superclass.'''\n",
    "class Vehicle:\n",
    "    def __init__(self, brand):\n",
    "        self.brand = brand\n",
    "    \n",
    "    def drive(self):\n",
    "        print(\"The vehicle is moving.\")\n",
    "\n",
    "class Car(Vehicle):\n",
    "    def start(self):\n",
    "        print(f\"{self.brand} car is starting.\")\n",
    "\n",
    "my_car = Car(\"Toyota\")\n",
    "my_car.start()  \n",
    "my_car.drive()  \n",
    "'''  2.Multiple Inheritance:\n",
    "\n",
    "     In multiple inheritance, a subclass inherits from more than one superclass.'''\n",
    "class Parent1:\n",
    "    def method1(self):\n",
    "        print(\"Method 1 from Parent 1.\")\n",
    "\n",
    "class Parent2:\n",
    "    def method2(self):\n",
    "        print(\"Method 2 from Parent 2.\")\n",
    "\n",
    "class Child(Parent1, Parent2):\n",
    "    def child_method(self):\n",
    "        print(\"Child's own method.\")\n",
    "\n",
    "my_child = Child()\n",
    "my_child.method1()  \n",
    "my_child.method2()  \n",
    "my_child.child_method()  \n",
    "\n",
    "'''3.Multilevel Inheritance:\n",
    "\n",
    "    In multilevel inheritance, a subclass inherits from another subclass, creating a chain of inheritance. '''\n",
    "class Grandparent:\n",
    "    def method1(self):\n",
    "        print(\"Method 1 from Grandparent.\")\n",
    "\n",
    "class Parent(Grandparent):\n",
    "    def method2(self):\n",
    "        print(\"Method 2 from Parent.\")\n",
    "\n",
    "class Child(Parent):\n",
    "    def method3(self):\n",
    "        print(\"Method 3 from Child.\")\n",
    "\n",
    "my_child = Child()\n",
    "my_child.method1()  # Accesses method1 from Grandparent\n",
    "my_child.method2()  # Accesses method2 from Parent\n"
   ]
  }
 ],
 "metadata": {
  "kernelspec": {
   "display_name": "Python 3 (ipykernel)",
   "language": "python",
   "name": "python3"
  },
  "language_info": {
   "codemirror_mode": {
    "name": "ipython",
    "version": 3
   },
   "file_extension": ".py",
   "mimetype": "text/x-python",
   "name": "python",
   "nbconvert_exporter": "python",
   "pygments_lexer": "ipython3",
   "version": "3.10.8"
  }
 },
 "nbformat": 4,
 "nbformat_minor": 5
}
