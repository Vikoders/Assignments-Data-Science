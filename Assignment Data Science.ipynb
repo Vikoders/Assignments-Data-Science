{
 "cells": [
  {
   "cell_type": "code",
   "execution_count": 3,
   "id": "e555e1c0-da55-4edb-abce-a11e74385116",
   "metadata": {},
   "outputs": [
    {
     "data": {
      "text/plain": [
       "'QQ1. Which keyword is used to create a function?\\nAns - Def keyword is used to create a function.'"
      ]
     },
     "execution_count": 3,
     "metadata": {},
     "output_type": "execute_result"
    }
   ],
   "source": [
    "'''QQ1. Which keyword is used to create a function?\n",
    "Ans - Def keyword is used to create a function.'''\n",
    "   \n"
   ]
  },
  {
   "cell_type": "code",
   "execution_count": 4,
   "id": "66306602-a602-4003-8bf9-70af29e02069",
   "metadata": {},
   "outputs": [
    {
     "data": {
      "text/plain": [
       "' Create a function to return a list of odd numbers in the\\nrange of 1 to 25.'"
      ]
     },
     "execution_count": 4,
     "metadata": {},
     "output_type": "execute_result"
    }
   ],
   "source": [
    "'''QQ1. Which keyword is used to create a function? Create a function to return a list of odd numbers in the\n",
    "range of 1 to 25.\n",
    "\n",
    "Ans - Def keyword is used to create a function.'''\n",
    "def Odd(n):\n",
    "    a=[]\n",
    "    for i in range(n):\n",
    "        if i % 2 !=0:\n",
    "            a.append(i)\n",
    "        \n",
    "    return a  "
   ]
  },
  {
   "cell_type": "code",
   "execution_count": 24,
   "id": "337a3d41-d193-4af5-b05a-e0c6cd39e5f0",
   "metadata": {},
   "outputs": [],
   "source": [
    "def Odd(n):\n",
    "    a=[]\n",
    "    for i in range(n):\n",
    "        if i % 2 !=0:\n",
    "            a.append(i)\n",
    "        \n",
    "    return a    \n",
    "    "
   ]
  },
  {
   "cell_type": "code",
   "execution_count": 25,
   "id": "2879a65a-14bb-45dc-bc5f-7c0e0d298df1",
   "metadata": {},
   "outputs": [
    {
     "data": {
      "text/plain": [
       "[1, 3, 5, 7, 9, 11, 13, 15, 17, 19, 21, 23, 25]"
      ]
     },
     "execution_count": 25,
     "metadata": {},
     "output_type": "execute_result"
    }
   ],
   "source": [
    "Odd(26)"
   ]
  },
  {
   "cell_type": "code",
   "execution_count": 1,
   "id": "28297e73-5044-4692-af51-6987c24081f4",
   "metadata": {},
   "outputs": [
    {
     "data": {
      "text/plain": [
       "'Q2. Why *args and **kwargs is used in some functions? Create a function each for *args and **kwargs to\\ndemonstrate their use.'"
      ]
     },
     "execution_count": 1,
     "metadata": {},
     "output_type": "execute_result"
    }
   ],
   "source": []
  },
  {
   "cell_type": "code",
   "execution_count": 13,
   "id": "9055a3b5-22c3-4195-a357-3d259db9393c",
   "metadata": {},
   "outputs": [],
   "source": [
    "'''Q2. Why *args and **kwargs is used in some functions? Create a function each for *args and **kwargs to\n",
    "demonstrate their use.\n",
    "Ans - *args are used to take number of inputs as arguments which will be returned in form of tuple.\n",
    "        **Kwargs is used to take a number of inputs in form of key and value and return them in from of dict datatype.\n",
    "        '''\n",
    "def test3(*args):\n",
    "    l = []\n",
    "    for i in args:\n",
    "        if type(i) == list:\n",
    "            l.append(i)\n",
    "    return l\n",
    "def test6(**kwargs):\n",
    "    for i in kwargs.keys():\n",
    "        if type(kwargs[i]) == list:\n",
    "            return i,kwargs[i]"
   ]
  },
  {
   "cell_type": "code",
   "execution_count": 14,
   "id": "ea387894-ec6f-411d-b228-6d31f16786ca",
   "metadata": {},
   "outputs": [
    {
     "name": "stdout",
     "output_type": "stream",
     "text": [
      "2\n",
      "4\n",
      "6\n",
      "8\n",
      "10\n"
     ]
    }
   ],
   "source": [
    "'''Q3. What is an iterator in python? Name the method used to initialise the iterator object and the method\n",
    "used for iteration. Use these methods to print the first five elements of the given list [2, 4, 6, 8, 10, 12, 14, 16,\n",
    "18, 20].\n",
    "Ans - An iterator in Python is an object that allows you to traverse elements of a collection one by one. It defines two main methods:\n",
    "\n",
    "__iter__(): This method is used to initialize the iterator object. It should return the iterator object itself. In essence, it tells the object that it can be used in a for loop or with other iterable constructs.\n",
    "\n",
    "__next__(): This method is used for iteration and returns the next item from the collection. If there are no more items to return, it raises the StopIteration exception to signal the end of the iteration.'''\n",
    "# Given list\n",
    "my_list = [2, 4, 6, 8, 10, 12, 14, 16, 18, 20]\n",
    "\n",
    "# Create an iterator object\n",
    "my_iterator = iter(my_list)\n",
    "\n",
    "# Iterate and print the first five elements\n",
    "for _ in range(5):\n",
    "    try:\n",
    "        element = next(my_iterator)\n",
    "        print(element)\n",
    "    except StopIteration:\n",
    "        break\n"
   ]
  },
  {
   "cell_type": "code",
   "execution_count": 11,
   "id": "a42e8694-5d86-41bf-99ec-b68e34ece083",
   "metadata": {},
   "outputs": [],
   "source": [
    "'''Q4. What is a generator function in python? Why yield keyword is used? Give an example of a generator\n",
    "function.\n",
    "Ans - A generator function in Python is a special type of function that allows you to create an iterator,and not store all the elements in the memory.\n",
    "     Generator functions use the yield keyword to produce a value and temporarily pause execution. When the generator is iterated, \n",
    "     it resumes from where it left off, maintaining its internal state.\n",
    "     example in generator function.'''\n",
    "\n",
    "def test_fib(n):\n",
    "        a,b = 0,1\n",
    "        for i in range(n):\n",
    "            yield a\n",
    "            a,b = b,a+b\n",
    "            \n",
    "     "
   ]
  },
  {
   "cell_type": "code",
   "execution_count": 12,
   "id": "7adc7f3e-3ae1-4959-a252-cfe079642e46",
   "metadata": {},
   "outputs": [
    {
     "name": "stdout",
     "output_type": "stream",
     "text": [
      "2\n",
      "3\n",
      "5\n",
      "7\n",
      "11\n",
      "13\n",
      "17\n",
      "19\n",
      "23\n",
      "29\n",
      "31\n",
      "37\n",
      "41\n",
      "43\n",
      "47\n",
      "53\n",
      "59\n",
      "61\n",
      "67\n",
      "71\n"
     ]
    }
   ],
   "source": [
    "'''Q5 Create a generator function for prime numbers less than 1000. Use the next() method to print the\n",
    "first 20 prime numbers.'''\n",
    "#Ans.\n",
    "def is_prime(number):\n",
    "    if number <= 1:\n",
    "        return False\n",
    "    if number <= 3:\n",
    "        return True\n",
    "    if number % 2 == 0 or number % 3 == 0:\n",
    "        return False\n",
    "\n",
    "    i = 5\n",
    "    while i * i <= number:\n",
    "        if number % i == 0 or number % (i + 2) == 0:\n",
    "            return False\n",
    "        i += 6\n",
    "\n",
    "    return True\n",
    "\n",
    "def prime_generator():\n",
    "    number = 2\n",
    "    while True:\n",
    "        if is_prime(number):\n",
    "            yield number\n",
    "        number += 1\n",
    "\n",
    "# Create a generator object for prime numbers\n",
    "prime_gen = prime_generator()\n",
    "\n",
    "# Print the first 20 prime numbers\n",
    "for _ in range(20):\n",
    "    print(next(prime_gen))\n",
    "\n"
   ]
  },
  {
   "cell_type": "code",
   "execution_count": null,
   "id": "f245f8f8-23ac-425b-82f8-f06e5be08adb",
   "metadata": {},
   "outputs": [],
   "source": []
  }
 ],
 "metadata": {
  "kernelspec": {
   "display_name": "Python 3 (ipykernel)",
   "language": "python",
   "name": "python3"
  },
  "language_info": {
   "codemirror_mode": {
    "name": "ipython",
    "version": 3
   },
   "file_extension": ".py",
   "mimetype": "text/x-python",
   "name": "python",
   "nbconvert_exporter": "python",
   "pygments_lexer": "ipython3",
   "version": "3.10.8"
  }
 },
 "nbformat": 4,
 "nbformat_minor": 5
}
