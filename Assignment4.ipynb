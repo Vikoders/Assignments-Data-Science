{
 "cells": [
  {
   "cell_type": "code",
   "execution_count": 27,
   "id": "fc2b0326-23a4-41f1-86f5-1453188e1844",
   "metadata": {},
   "outputs": [
    {
     "name": "stdout",
     "output_type": "stream",
     "text": [
      "vehicle:Kushaq\n",
      "vehicle:23\n",
      "vehicle:34\n"
     ]
    }
   ],
   "source": [
    "'''Q1 Create a vehicle class with an init method having instance variables as name_of_vehicle, max_speed\n",
    "and average_of_vehicle.'''\n",
    "class vehicle:\n",
    "    def __init__(self,name_of_vehicle,max_speed,average_of_vehicle):\n",
    "        self.name_of_vehicle = name_of_vehicle\n",
    "        self.max_speed = max_speed\n",
    "        self.average_of_vehicle = average_of_vehicle\n",
    "    def display(self):\n",
    "        print(f\"vehicle:{self.name_of_vehicle}\")\n",
    "        print(f\"vehicle:{self.max_speed}\")\n",
    "        print(f\"vehicle:{self.average_of_vehicle}\")\n",
    "obj_s = vehicle('Kushaq',23,34)\n",
    "obj_s.display()     \n",
    "       "
   ]
  },
  {
   "cell_type": "code",
   "execution_count": 28,
   "id": "6cc455bc-7ba5-40b0-a3b2-023e11188423",
   "metadata": {},
   "outputs": [],
   "source": [
    "'''Q2 Create a child class car from the vehicle class created in Que 1, which will inherit the vehicle class.\n",
    "Create a method named seating_capacity which takes capacity as an argument and returns the name of\n",
    "the vehicle and its seating capacity.'''\n",
    "class child(vehicle):\n",
    "    def seating_capacity(self,capacity):\n",
    "        self.capacity = capacity\n",
    "        return self.name_of_vehicle,self.capacity\n",
    "   "
   ]
  },
  {
   "cell_type": "code",
   "execution_count": 29,
   "id": "fa4aac79-4e3d-4c12-9c95-ed6e5eda97b2",
   "metadata": {},
   "outputs": [],
   "source": [
    "obj_c = child('Kushaq',23,34)"
   ]
  },
  {
   "cell_type": "code",
   "execution_count": 30,
   "id": "bb65958a-d1f6-4dbc-b463-cc0c3f6f61d8",
   "metadata": {},
   "outputs": [
    {
     "data": {
      "text/plain": [
       "('Kushaq', 5)"
      ]
     },
     "execution_count": 30,
     "metadata": {},
     "output_type": "execute_result"
    }
   ],
   "source": [
    "obj_c.seating_capacity(5)"
   ]
  },
  {
   "cell_type": "code",
   "execution_count": 38,
   "id": "c1c474b9-5294-4c4e-9bf5-ceb9309bf73b",
   "metadata": {},
   "outputs": [
    {
     "data": {
      "text/plain": [
       "'This is c2'"
      ]
     },
     "execution_count": 38,
     "metadata": {},
     "output_type": "execute_result"
    }
   ],
   "source": [
    "'''Q3 What is multiple inheritance? Write a python code to demonstrate multiple inheritance.\n",
    "Ans - When a class is derived from more than one base class it is called multiple Inheritance. The derived \n",
    "class inherits all the features of the base case. '''\n",
    "class c1:\n",
    "    def test_c1(self):\n",
    "        return \"This is c1\"\n",
    "class c2:\n",
    "    def test_c2(self):\n",
    "        return \"This is c2\"\n",
    "class c3(c1,c2): \n",
    "    def test_c3(self):\n",
    "        pass\n",
    "obj_c = c3()\n",
    "obj_c.test_c2()"
   ]
  },
  {
   "cell_type": "code",
   "execution_count": 4,
   "id": "2c00abdd-c103-48d2-a0d5-e098a32c04ec",
   "metadata": {},
   "outputs": [
    {
     "data": {
      "text/plain": [
       "45"
      ]
     },
     "execution_count": 4,
     "metadata": {},
     "output_type": "execute_result"
    }
   ],
   "source": [
    "'''Q4 What are getter and setter in python? Create a class and create a getter and a setter method in this\n",
    "class.\n",
    "Ans - In Python, getter and setter methods are used to access and modify the private attributes of a class, \n",
    "respectively. They allow controlled access to the attributes, providing an additional layer of encapsulation.\n",
    "Getter methods retrieve the value of an attribute, while setter methods set or modify the value of an attribute.'''\n",
    "class car:\n",
    "    def __init__(self,Brand, model,speed):\n",
    "        self.__Brand = Brand\n",
    "        self.__model = model\n",
    "        self.__speed = 0\n",
    "    def set_speed(self,speed):\n",
    "        self.speed = 0 if speed<0 else speed\n",
    "    def get_speed(self):\n",
    "        return self.speed\n",
    "    \n",
    "obj_car = car('Scoda','Kushaq',0)  \n",
    "obj_car.set_speed(45)\n",
    "obj_car.get_speed()"
   ]
  },
  {
   "cell_type": "code",
   "execution_count": 5,
   "id": "6e2fbdcb-4895-4bf4-8700-ae2de5859f21",
   "metadata": {},
   "outputs": [
    {
     "ename": "SyntaxError",
     "evalue": "incomplete input (2889615878.py, line 9)",
     "output_type": "error",
     "traceback": [
      "\u001b[0;36m  Cell \u001b[0;32mIn[5], line 9\u001b[0;36m\u001b[0m\n\u001b[0;31m    def model(self):\u001b[0m\n\u001b[0m                    ^\u001b[0m\n\u001b[0;31mSyntaxError\u001b[0m\u001b[0;31m:\u001b[0m incomplete input\n"
     ]
    }
   ],
   "source": [
    "'''Q5.What is method overriding in python? Write a python code to demonstrate method overriding.\n",
    "Ans-Method overriding in Python occurs when a child class provides a specific implementation for a method that \n",
    "is already defined in its parent class. The overridden method in the child class should have the same signature\n",
    "(name and parameters) as the method in the parent class.'''\n",
    "class car:\n",
    "    def model(self):\n",
    "        print(\"we will write the models of the car\")\n",
    "class Mercedes(car):\n",
    "    def model(self):\n",
    "        print(\"This is Mercedes Benz\")\n",
    "class BMW(car):\n",
    "    def model(self):\n",
    "        print(\"This is Gran Coupe\")\n",
    "obj_Merce = Mercedes()\n",
    "obj_BMW = BMW()\n",
    "o"
   ]
  },
  {
   "cell_type": "code",
   "execution_count": null,
   "id": "64855d9f-6a61-4882-8639-14af63b6481a",
   "metadata": {},
   "outputs": [],
   "source": []
  }
 ],
 "metadata": {
  "kernelspec": {
   "display_name": "Python 3 (ipykernel)",
   "language": "python",
   "name": "python3"
  },
  "language_info": {
   "codemirror_mode": {
    "name": "ipython",
    "version": 3
   },
   "file_extension": ".py",
   "mimetype": "text/x-python",
   "name": "python",
   "nbconvert_exporter": "python",
   "pygments_lexer": "ipython3",
   "version": "3.10.8"
  }
 },
 "nbformat": 4,
 "nbformat_minor": 5
}
