{
 "cells": [
  {
   "cell_type": "markdown",
   "id": "9695ddb7-65e1-46dc-b46c-a628ec379dbf",
   "metadata": {},
   "source": [
    "Q1. Create a Pandas Series that contains the following data: 4, 8, 15, 16, 23, and 42. Then, print the series."
   ]
  },
  {
   "cell_type": "code",
   "execution_count": 5,
   "id": "e9cec2fc-9ec3-4138-9433-f6720dbbb6ae",
   "metadata": {},
   "outputs": [
    {
     "name": "stdout",
     "output_type": "stream",
     "text": [
      "0     4\n",
      "1     8\n",
      "2    15\n",
      "3    16\n",
      "4    23\n",
      "5    42\n",
      "dtype: int64\n"
     ]
    }
   ],
   "source": [
    "import pandas as pd\n",
    "Data = [4, 8, 15, 16, 23,42]\n",
    "df = pd.Series(Data)\n",
    "print(df)"
   ]
  },
  {
   "cell_type": "markdown",
   "id": "d8779299-5ec9-46c3-9b78-4a275295ae17",
   "metadata": {},
   "source": [
    "Q2. Create a variable of list type containing 10 elements in it, and apply pandas.Series function on the\n",
    "variable print it."
   ]
  },
  {
   "cell_type": "code",
   "execution_count": 14,
   "id": "ebd30c6d-36ae-4aaf-8f5d-93a5cc70fb37",
   "metadata": {},
   "outputs": [
    {
     "name": "stdout",
     "output_type": "stream",
     "text": [
      "0    12\n",
      "1    34\n",
      "2    56\n",
      "3    47\n",
      "4    35\n",
      "5    25\n",
      "6    89\n",
      "dtype: int64\n"
     ]
    }
   ],
   "source": [
    "import pandas as pd\n",
    "D = [12,34,56,47,35,25,89]\n",
    "df = pd.Series(D)\n",
    "print(df)"
   ]
  },
  {
   "cell_type": "markdown",
   "id": "6f666a6e-fb55-4881-81c6-b99a0f5de9b7",
   "metadata": {},
   "source": [
    "Q3. Create a Pandas DataFrame that contains the following data:\n",
    "\n",
    "Then, print the DataFrame."
   ]
  },
  {
   "cell_type": "code",
   "execution_count": 17,
   "id": "4712ec0f-0c10-48b4-b158-a1d58b91c65b",
   "metadata": {},
   "outputs": [
    {
     "name": "stdout",
     "output_type": "stream",
     "text": [
      "     Name  Age  Gender\n",
      "0   Alice   25  Female\n",
      "1     Bob   30    Male\n",
      "2  Claire   27  Female\n"
     ]
    }
   ],
   "source": [
    "import pandas as pd\n",
    "Data = {'Name':['Alice','Bob','Claire'],\n",
    "        'Age':[25,30,27],\n",
    "        'Gender': ['Female','Male','Female']}\n",
    "df = pd.DataFrame(Data)\n",
    "print(df)\n"
   ]
  },
  {
   "cell_type": "markdown",
   "id": "914f7b79-8800-42e8-a9f7-9bb4afeca93e",
   "metadata": {},
   "source": [
    "Q4. What is ‘DataFrame’ in pandas and how is it different from pandas.series? Explain with an example."
   ]
  },
  {
   "cell_type": "markdown",
   "id": "5f7aab1e-f97d-4746-adc5-5981d891ca8e",
   "metadata": {},
   "source": [
    "Ans - Data Frame in pandas depicts Data organised in Tabular Format.\n",
    "      In pandas.series data is depicted in the form of list and not in tabular       format. \n",
    "      for e.g \n",
    "      import pandas as pd\n",
    "      Data = {'Name':['Alice','Bob','Claire'],\n",
    "        'Age':[25,30,27],\n",
    "        'Gender': ['Female','Male','Female']}\n",
    "      df = pd.DataFrame(Data)\n",
    "      print(df)\n",
    "      and for series\n",
    "      import pandas as pd\n",
    "      D = [12,34,56,47,35,25,89]\n",
    "      df = pd.Series(D)\n",
    "      print(df)\n",
    "      "
   ]
  },
  {
   "cell_type": "markdown",
   "id": "1f854c9a-e107-4acb-800a-7c7cbdbc3ec1",
   "metadata": {},
   "source": [
    "Q5. What are some common functions you can use to manipulate data in a Pandas DataFrame? Can\n",
    "you give an example of when you might use one of these functions?"
   ]
  },
  {
   "cell_type": "markdown",
   "id": "036a7dc5-a18e-4308-b067-d375b45bf5da",
   "metadata": {},
   "source": [
    "Ans - DataFrame.head() and DataFrame.tail(): These functions allow you to view the first or last few rows of your DataFrame, respectively. They're handy for quickly inspecting your data to understand its structure.\n",
    "      DataFrame.info(): Provides a concise summary of your DataFrame, including the data types of each column and the number of non-null values.\n",
    "      DataFrame.describe(): Generates descriptive statistics for numerical columns in your DataFrame, such as mean, standard deviation, min, max, and quartile values.\n",
    "      DataFrame.groupby(): Allows you to group data based on one or more columns and perform aggregate functions on each group.\n",
    "      e.g df.groupby('category')['value'].mean()"
   ]
  },
  {
   "cell_type": "markdown",
   "id": "46abe4fe-556b-487c-9ffe-414ffecb049c",
   "metadata": {},
   "source": [
    "Q6. Which of the following is mutable in nature Series, DataFrame, Panel?"
   ]
  },
  {
   "cell_type": "markdown",
   "id": "332647d0-4750-4561-844f-faa594801bc8",
   "metadata": {},
   "source": [
    "Ans - Among the options provided, both Series and DataFrame are mutable in nature, while Panel is not."
   ]
  },
  {
   "cell_type": "markdown",
   "id": "d7aa4414-159d-4e0d-a10e-6c8d6976d531",
   "metadata": {},
   "source": [
    "Q7. Create a DataFrame using multiple Series. Explain with an example."
   ]
  }
 ],
 "metadata": {
  "kernelspec": {
   "display_name": "Python 3 (ipykernel)",
   "language": "python",
   "name": "python3"
  },
  "language_info": {
   "codemirror_mode": {
    "name": "ipython",
    "version": 3
   },
   "file_extension": ".py",
   "mimetype": "text/x-python",
   "name": "python",
   "nbconvert_exporter": "python",
   "pygments_lexer": "ipython3",
   "version": "3.10.8"
  }
 },
 "nbformat": 4,
 "nbformat_minor": 5
}
