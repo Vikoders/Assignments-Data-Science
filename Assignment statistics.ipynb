{
 "cells": [
  {
   "cell_type": "markdown",
   "id": "f1c7f6a0-6d66-4c49-84a2-6b34204f9701",
   "metadata": {},
   "source": [
    "Q1. What is Statistics?"
   ]
  },
  {
   "cell_type": "markdown",
   "id": "a229cc7a-634a-443d-b922-8e8743681527",
   "metadata": {},
   "source": [
    "Statistics is the science of collecting , organizing and analyzing data , which can be used to get a numerical understanding of the data set"
   ]
  },
  {
   "cell_type": "raw",
   "id": "2c834766-f225-48f1-b869-4f11cf0bb107",
   "metadata": {},
   "source": [
    "Q2. Define the different types of statistics and give an example of when each type might be used.\n",
    "\n",
    "Ans - Statistics may be defined into 2 types:\n",
    "    1) Descriptive Statistics - It is used for organizing and summarizing of data.\n",
    "           For e.g. Calculating the average number of students in a class.\n",
    "    2) Inferential Statistics - It is used when we have a less amount of sample data, and by analysing such            sample data , we implement it on the whole population data.\n",
    "           for e.g. for understanding the political opinion of the whole population, we analyze some parts of              population and then implement the results on general population data."
   ]
  },
  {
   "cell_type": "markdown",
   "id": "85359c98-6f4a-4b7e-8857-0c9b428ca42a",
   "metadata": {},
   "source": [
    "Q3. What are the different types of data and how do they differ from each other? Provide an example of\n",
    "each type of data.\n",
    "\n",
    "Ans - Data can be Qualitative and Quantitative.\n",
    "      Qualititive Data - It includes Data which has numerical values and which can be numerically analysed.\n",
    "      It is further Divided into :-\n",
    "      1) Discrete Data - Data which have whole number values. For e.g. Number of student in the class, Number of          bank accounts.\n",
    "      2) Continous data - Data which contains Rational Numerical Values. For e.g - weight , Height, etc.              \n",
    "      Quantitaive Data - It includes Data with categorical values . It is further divided into:-\n",
    "      1) Nominal data - Data which has categorical values having specific values. For e.g. Gender(M,F), Blood            Group, Colors.\n",
    "      2)Ordinal Data - Data which has categorical value which can be ranked. e.g. Rating(Good , satisfactory or         bad)."
   ]
  },
  {
   "cell_type": "markdown",
   "id": "d847c7bb-fe18-440b-859e-7213e567b90a",
   "metadata": {},
   "source": [
    "Q4. Categorise the following datasets with respect to quantitative and qualitative data types:\n",
    "\n",
    "(i) Grading in exam: A+, A, B+, B, C+, C, D, E - Ordinal data (Qualitative)\n",
    "\n",
    "(ii) Colour of mangoes: yellow, green, orange, red - Nominal data (Qualitative)\n",
    "\n",
    "(iii) Height data of a class: [178.9, 179, 179.5, 176, 177.2, 178.3, 175.8,...] - Continous data (Quantitaive)\n",
    "\n",
    "(iv) Number of mangoes exported by a farm: [500, 600, 478, 672, ...] - Discrete Data(Quantitaive)"
   ]
  },
  {
   "cell_type": "markdown",
   "id": "a90f9a78-d41f-4496-a0ee-418ce37737a3",
   "metadata": {},
   "source": [
    "Q5. Explain the concept of levels of measurement and give an example of a variable for each level.\n",
    "\n",
    "Ans - Level of Measurement or scale of measurement are used to measure a data on a scale.                        \n",
    "      Following are the level of measurement:-                                                                    \n",
    "      1) Nominal Scale measurement - This type of measurement includes categorical data in which order does not          matter . for e.g. Gender , Color, Blood Group,etc.                                                                   \n",
    "      2) Ordinal Scale Measurement - This type of measurement includes categorical data which also consider r            rank/order as a parameter. for e.g. Marks, Qualification,etc.                                                    \n",
    "      3) Interval Scale measurement - This Type of measurement consider rank and order, and difference can also          be measured (except ratios) e.g. Temperature,etc.                                                         \n",
    "      4) Ratio Scale measurement - This type of measurement consider rank and order, differnce can be measured            and ratio is also significant. for e.g. grading system."
   ]
  },
  {
   "cell_type": "markdown",
   "id": "5bd304d3-a984-428b-8d18-9e545a8a3c49",
   "metadata": {},
   "source": [
    "Q6. Why is it important to understand the level of measurement when analyzing data? Provide an\n",
    "example to illustrate your answer.\n",
    "\n",
    "Ans - It is important to understand level of measurement as to know which sort of data is to be measured on which sort of scale. If a data , in which the data elements does not have a ratio significance is measured under ratio Scale Data, then , it the result will be not up to the mark.\n",
    "For example, let's consider a scenario where we have collected data on the favorite colors of individuals in a survey. The data is recorded as follows:\n",
    "\n",
    "Person A: Blue\n",
    "Person B: Red\n",
    "Person C: Green\n",
    "Person D: Blue\n",
    "Person E: Red\n",
    "In this scenario, the variable \"favorite color\" is measured at the nominal level because the categories (blue, red, green) are distinct and categorical with no inherent order or ranking.\n",
    "\n",
    "If we were to calculate descriptive statistics such as the mean or standard deviation for favorite colors, it would not be meaningful or appropriate because nominal data cannot be quantitatively summarized in this way. We cannot calculate the average or measure the variability of nominal data."
   ]
  },
  {
   "cell_type": "raw",
   "id": "d26fe0ce-e503-4ee3-a601-1e85727d1379",
   "metadata": {},
   "source": [
    "Q7. How nominal data type is different from ordinal data type.\n",
    "Ans - Nominal data type only considers categorical value while besides categorical value ordinal data type also considers rank and order."
   ]
  },
  {
   "cell_type": "raw",
   "id": "ab551f29-1398-4423-8a87-62f1e26fe9d4",
   "metadata": {},
   "source": [
    "Q8. Which type of plot can be used to display data in terms of range?\n",
    "Ans - A type of plot commonly used to display data in terms of range is a box plot "
   ]
  },
  {
   "cell_type": "raw",
   "id": "e6291400-4a27-4b7c-8bc3-a7c436ee0396",
   "metadata": {},
   "source": [
    "Q9. Describe the difference between descriptive and inferential statistics. Give an example of each\n",
    "type of statistics and explain how they are used.\n",
    "Ans -  1) Descriptive Statistics - It is used for organizing and summarizing of data.\n",
    "           For e.g. Calculating the average number of students in a class.\n",
    "       2) Inferential Statistics - It is used when we have a less amount of sample data, and by analysing such            sample data , we implement it on the whole population data.\n",
    "           for e.g. for understanding the political opinion of the whole population, we analyze some parts of              population and then implement the results on general population data."
   ]
  },
  {
   "cell_type": "raw",
   "id": "56776208-bee7-416b-80ba-1d66d9380c13",
   "metadata": {},
   "source": [
    "Q10. What are some common measures of central tendency and variability used in statistics? Explain\n",
    "how each measure can be used to describe a dataset.\n",
    "Ans - Measures of Central Tendency:\n",
    "Measures of central tendency provide a single value that represents the \"center\" or \"typical\" value of a dataset. The main measures of central tendency are:\n",
    "\n",
    "a. Mean: The mean, also known as the average, is calculated by summing all values in the dataset and dividing by the total number of values. It represents the balance point of the data and is sensitive to extreme values (outliers).\n",
    "\n",
    "b. Median: The median is the middle value of a dataset when the values are arranged in ascending or descending order. If there is an even number of values, the median is the average of the two middle values. The median is less affected by extreme values compared to the mean and provides a robust measure of central tendency.\n",
    "\n",
    "c. Mode: The mode is the most frequently occurring value(s) in a dataset. It represents the value(s) that appear(s) with the highest frequency and is useful for identifying the most common characteristic(s) of the data.\n",
    "\n",
    "Measures of Variability:\n",
    "Measures of variability quantify the spread or dispersion of data points around the central tendency. The main measures of variability are:\n",
    "\n",
    "a. Range: The range is the difference between the maximum and minimum values in a dataset. It provides a simple measure of the spread of data but is sensitive to extreme values.\n",
    "\n",
    "b. Variance: The variance is the average of the squared differences between each data point and the mean. It quantifies the average deviation of data points from the mean and provides a measure of overall variability. However, the variance is not in the same units as the original data, making it less interpretable.\n",
    "\n",
    "c. Standard Deviation: The standard deviation is the square root of the variance. It measures the average distance of data points from the mean and is in the same units as the original data. The standard deviation provides a more intuitive measure of variability compared to the variance.\n",
    "\n",
    "d. Interquartile Range (IQR): The interquartile range is the difference between the third quartile (Q3) and the first quartile (Q1) of a dataset. It represents the middle 50% of the data and is less sensitive to extreme values compared to the range.\n",
    "These measures of central tendency and variability can be used together to provide a comprehensive summary of a dataset"
   ]
  },
  {
   "cell_type": "code",
   "execution_count": null,
   "id": "b189b0f8-c9bb-480a-ba51-b7e48cc9c645",
   "metadata": {},
   "outputs": [],
   "source": []
  }
 ],
 "metadata": {
  "kernelspec": {
   "display_name": "Python 3 (ipykernel)",
   "language": "python",
   "name": "python3"
  },
  "language_info": {
   "codemirror_mode": {
    "name": "ipython",
    "version": 3
   },
   "file_extension": ".py",
   "mimetype": "text/x-python",
   "name": "python",
   "nbconvert_exporter": "python",
   "pygments_lexer": "ipython3",
   "version": "3.10.8"
  }
 },
 "nbformat": 4,
 "nbformat_minor": 5
}
